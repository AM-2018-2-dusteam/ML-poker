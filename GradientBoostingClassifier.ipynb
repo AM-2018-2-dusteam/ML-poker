{
 "cells": [
  {
   "cell_type": "code",
   "execution_count": 35,
   "metadata": {},
   "outputs": [
    {
     "name": "stdout",
     "output_type": "stream",
     "text": [
      "Assertividade dados de treino:  0.9964014394242303\n",
      "Assertividade dados de teste:  0.987675\n"
     ]
    }
   ],
   "source": [
    "import pandas as pd\n",
    "import numpy as np\n",
    "import matplotlib.pyplot as plt\n",
    "from sklearn.model_selection import train_test_split\n",
    "from sklearn.neighbors import KNeighborsClassifier\n",
    "from sklearn.neural_network import MLPClassifier\n",
    "from sklearn.utils import column_or_1d\n",
    "from sklearn.linear_model import LogisticRegression\n",
    "from sklearn.tree import DecisionTreeClassifier\n",
    "from sklearn.ensemble import RandomForestClassifier\n",
    "from sklearn.preprocessing import OneHotEncoder\n",
    "from sklearn.ensemble import AdaBoostClassifier\n",
    "from sklearn.metrics import confusion_matrix\n",
    "import seaborn as sn\n",
    "from sklearn.ensemble import GradientBoostingClassifier\n",
    "import time\n",
    "\n",
    "from format import format_poker_data\n",
    "\n",
    "inicio = time.time()\n",
    "\n",
    "train_data = pd.read_csv('train.csv')\n",
    "test_data = pd.read_csv('test.csv')\n",
    "X_train, y_train = np.split(train_data,[-1],axis=1)\n",
    "test_data = test_data.dropna()\n",
    "X_test, y_test = np.split(test_data,[-1],axis=1)\n",
    "X_train , equal_suit_train = format_poker_data(X_train)\n",
    "X_test , equal_suit_test = format_poker_data(X_test)\n",
    "\n",
    "rf = GradientBoostingClassifier(n_estimators=50, max_depth=8)\n",
    "\n",
    "y_train = column_or_1d(y_train)\n",
    "y_test = column_or_1d(y_test)\n",
    "\n",
    "rf.fit(X_train,y_train)\n",
    "\n",
    "print(\"Assertividade dados de treino: \", rf.score(X_train,y_train))\n",
    "print(\"Assertividade dados de teste: \", rf.score(X_test,y_test))\n",
    "\n"
   ]
  },
  {
   "cell_type": "code",
   "execution_count": 36,
   "metadata": {},
   "outputs": [
    {
     "name": "stdout",
     "output_type": "stream",
     "text": [
      "Tempo total de execução:  58.951900005340576\n"
     ]
    }
   ],
   "source": [
    "fim = time.time()\n",
    "tempototal = fim - inicio\n",
    "print(\"Tempo total de execução: \",tempototal)\n"
   ]
  },
  {
   "cell_type": "code",
   "execution_count": null,
   "metadata": {},
   "outputs": [],
   "source": []
  }
 ],
 "metadata": {
  "kernelspec": {
   "display_name": "Python 3",
   "language": "python",
   "name": "python3"
  },
  "language_info": {
   "codemirror_mode": {
    "name": "ipython",
    "version": 3
   },
   "file_extension": ".py",
   "mimetype": "text/x-python",
   "name": "python",
   "nbconvert_exporter": "python",
   "pygments_lexer": "ipython3",
   "version": "3.6.5"
  }
 },
 "nbformat": 4,
 "nbformat_minor": 2
}
