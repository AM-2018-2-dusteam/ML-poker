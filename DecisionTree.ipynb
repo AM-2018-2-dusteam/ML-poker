import pandas as pd
import numpy as np
import matplotlib.pyplot as plt
from sklearn.utils import column_or_1d
from sklearn.preprocessing import OneHotEncoder
from sklearn.ensemble import AdaBoostClassifier
from sklearn import tree
from IPython.display import Image
from sklearn.externals.six import StringIO
from sklearn.tree import export_graphviz
import pydot
from sklearn.model_selection import cross_val_score


train_data = pd.read_csv('train.csv')
test_data = pd.read_csv('test.csv')
X_train, y_train = np.split(train_data,[-1],axis=1)
test_data = test_data.dropna()
X_test, y_test = np.split(test_data,[-1],axis=1)

X_train = pd.get_dummies(X_train,columns=['suit_1','suit_2','suit_3','suit_4','suit_5'])
X_test = pd.get_dummies(X_test,columns=['suit_1','suit_2','suit_3','suit_4','suit_5'])

rank_train, suit_train = np.split(X_train,[5],axis=1)
rank_test, suit_test = np.split(X_test,[5],axis=1)

rank_train.head()

rank_train.values.sort()
rank_test.values.sort()

#features = list(test_data.columns[:10])

r = tree.DecisionTreeClassifier()
r = r.fit(rank_train, y_train)

pred = r.predict(rank_test)

## Decicion tree and cross validation

scores = cross_val_score(r, X=rank_test, y=y_test, cv=2)

soma=0
for c in scores:
	soma = soma+c

media = soma/(len(scores))

print('#######[Decision Tree]#######')
print("Assertividade dados de treino: ", r.score(rank_train, y_train))
print("Assertividade dados de teste: ", r.score(rank_test, y_test))
print("Assertividade cross validation dados de teste", media)

